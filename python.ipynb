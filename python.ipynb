{
  "nbformat": 4,
  "nbformat_minor": 0,
  "metadata": {
    "colab": {
      "provenance": [],
      "authorship_tag": "ABX9TyNgXaSxakAJPz6FsE5iUfxX",
      "include_colab_link": true
    },
    "kernelspec": {
      "name": "python3",
      "display_name": "Python 3"
    },
    "language_info": {
      "name": "python"
    }
  },
  "cells": [
    {
      "cell_type": "markdown",
      "metadata": {
        "id": "view-in-github",
        "colab_type": "text"
      },
      "source": [
        "<a href=\"https://colab.research.google.com/github/ambalasaketh11/python-program/blob/main/python.ipynb\" target=\"_parent\"><img src=\"https://colab.research.google.com/assets/colab-badge.svg\" alt=\"Open In Colab\"/></a>"
      ]
    },
    {
      "cell_type": "code",
      "source": [],
      "metadata": {
        "id": "soWRP0cefrsd"
      },
      "execution_count": null,
      "outputs": []
    },
    {
      "cell_type": "markdown",
      "source": [
        "# opreators"
      ],
      "metadata": {
        "id": "ZFS3HVrZfvyA"
      }
    },
    {
      "cell_type": "code",
      "source": [
        "a=10\n",
        "b=20"
      ],
      "metadata": {
        "id": "fks_tnM7f02C"
      },
      "execution_count": null,
      "outputs": []
    },
    {
      "cell_type": "code",
      "source": [
        "print(a+b)"
      ],
      "metadata": {
        "colab": {
          "base_uri": "https://localhost:8080/"
        },
        "id": "w56hstTMf_py",
        "outputId": "0b94030a-e4b6-424e-cebe-fa18037def2c"
      },
      "execution_count": null,
      "outputs": [
        {
          "output_type": "stream",
          "name": "stdout",
          "text": [
            "30\n"
          ]
        }
      ]
    },
    {
      "cell_type": "code",
      "source": [
        "print(a-b)"
      ],
      "metadata": {
        "colab": {
          "base_uri": "https://localhost:8080/"
        },
        "id": "9bEo08GGgD3y",
        "outputId": "7697a095-a4b2-4e9d-db0c-295eb0b4c597"
      },
      "execution_count": null,
      "outputs": [
        {
          "output_type": "stream",
          "name": "stdout",
          "text": [
            "-10\n"
          ]
        }
      ]
    },
    {
      "cell_type": "code",
      "source": [
        "print(a*b)"
      ],
      "metadata": {
        "colab": {
          "base_uri": "https://localhost:8080/"
        },
        "id": "xM3nOdVKgHDT",
        "outputId": "4b428d96-23ec-4bb2-8bf6-516e94adc758"
      },
      "execution_count": null,
      "outputs": [
        {
          "output_type": "stream",
          "name": "stdout",
          "text": [
            "200\n"
          ]
        }
      ]
    },
    {
      "cell_type": "code",
      "source": [
        "print(a/b)"
      ],
      "metadata": {
        "colab": {
          "base_uri": "https://localhost:8080/"
        },
        "id": "Sq12_V0qgKhR",
        "outputId": "be51a6d3-54b3-471c-8005-ca04114b383d"
      },
      "execution_count": null,
      "outputs": [
        {
          "output_type": "stream",
          "name": "stdout",
          "text": [
            "0.5\n"
          ]
        }
      ]
    },
    {
      "cell_type": "code",
      "source": [
        "a=15\n",
        "b=12"
      ],
      "metadata": {
        "id": "9dVGBMx1gNQB"
      },
      "execution_count": null,
      "outputs": []
    },
    {
      "cell_type": "code",
      "source": [
        "print(a//b)"
      ],
      "metadata": {
        "colab": {
          "base_uri": "https://localhost:8080/"
        },
        "id": "7BrxhSONg6OX",
        "outputId": "74dec593-7863-4ea1-afc5-4d982c4e8720"
      },
      "execution_count": null,
      "outputs": [
        {
          "output_type": "stream",
          "name": "stdout",
          "text": [
            "1\n"
          ]
        }
      ]
    },
    {
      "cell_type": "code",
      "source": [
        "d=7425\n",
        "s=550\n",
        "t=d/s\n",
        "print(t)"
      ],
      "metadata": {
        "colab": {
          "base_uri": "https://localhost:8080/"
        },
        "id": "gihiVDZeg9P3",
        "outputId": "c8494acb-8697-4f4c-b99a-75c7b01b0617"
      },
      "execution_count": null,
      "outputs": [
        {
          "output_type": "stream",
          "name": "stdout",
          "text": [
            "13.5\n"
          ]
        }
      ]
    },
    {
      "cell_type": "code",
      "source": [
        "x=125\n",
        "tip=x*20/100\n",
        "print(tip)"
      ],
      "metadata": {
        "colab": {
          "base_uri": "https://localhost:8080/"
        },
        "id": "7VyjEPB4hvAU",
        "outputId": "0f89d5cd-0ca1-45b4-8023-c0261217b74b"
      },
      "execution_count": null,
      "outputs": [
        {
          "output_type": "stream",
          "name": "stdout",
          "text": [
            "25.0\n"
          ]
        }
      ]
    },
    {
      "cell_type": "code",
      "source": [
        "x=int(1024)\n",
        "tip=x*20/100\n",
        "print(tip)\n"
      ],
      "metadata": {
        "colab": {
          "base_uri": "https://localhost:8080/"
        },
        "id": "PmARK06ajP-_",
        "outputId": "1ca32cb1-5d88-4466-f117-a2fdbbd5b3f7"
      },
      "execution_count": null,
      "outputs": [
        {
          "output_type": "stream",
          "name": "stdout",
          "text": [
            "204.8\n"
          ]
        }
      ]
    },
    {
      "cell_type": "code",
      "source": [
        "a=10\n",
        "b=20\n",
        "print(a>b)\n",
        "print(a<b)\n",
        "print(a==b)\n",
        "print(a!=b)\n",
        "print(a>=b)\n",
        "print(a<=b)"
      ],
      "metadata": {
        "colab": {
          "base_uri": "https://localhost:8080/"
        },
        "id": "91XkUrJwkiYa",
        "outputId": "cb21f58c-87d6-4c26-a50b-4374eae17a4f"
      },
      "execution_count": null,
      "outputs": [
        {
          "output_type": "stream",
          "name": "stdout",
          "text": [
            "False\n",
            "True\n",
            "False\n",
            "True\n",
            "False\n",
            "True\n"
          ]
        }
      ]
    },
    {
      "cell_type": "code",
      "source": [
        "a=10\n",
        "b=a\n",
        "print(b)\n",
        "b+=a\n",
        "print(b)\n",
        "b-=a\n",
        "print(b)\n",
        "b*=a\n",
        "print(b)\n",
        "b<<=a\n",
        "print(b)"
      ],
      "metadata": {
        "colab": {
          "base_uri": "https://localhost:8080/"
        },
        "id": "c6UrGmD9mj-L",
        "outputId": "31d6eae4-d074-4ff1-8933-e9ad95f34c28"
      },
      "execution_count": null,
      "outputs": [
        {
          "output_type": "stream",
          "name": "stdout",
          "text": [
            "10\n",
            "20\n",
            "10\n",
            "100\n",
            "102400\n"
          ]
        }
      ]
    },
    {
      "cell_type": "code",
      "source": [
        "x=10\n",
        "y=15\n",
        "list={10,20,30,40,50}\n",
        "\n"
      ],
      "metadata": {
        "id": "VwcnVul8ohqd"
      },
      "execution_count": null,
      "outputs": []
    },
    {
      "cell_type": "code",
      "source": [
        "(1,2,3)+(4,5,6)"
      ],
      "metadata": {
        "colab": {
          "base_uri": "https://localhost:8080/"
        },
        "id": "rDbfcp1NsEUh",
        "outputId": "34638537-cc3b-48f9-b2cc-182606760010"
      },
      "execution_count": null,
      "outputs": [
        {
          "output_type": "execute_result",
          "data": {
            "text/plain": [
              "(1, 2, 3, 4, 5, 6)"
            ]
          },
          "metadata": {},
          "execution_count": 39
        }
      ]
    },
    {
      "cell_type": "code",
      "source": [
        "[1,2,3]+[,4,5,6]"
      ],
      "metadata": {
        "colab": {
          "base_uri": "https://localhost:8080/",
          "height": 106
        },
        "id": "6r6ngBjcsJlI",
        "outputId": "4c7741bf-d5ce-4cb9-832e-8c00130d481a"
      },
      "execution_count": null,
      "outputs": [
        {
          "output_type": "error",
          "ename": "SyntaxError",
          "evalue": "invalid syntax (<ipython-input-42-0cd3b6c6efea>, line 1)",
          "traceback": [
            "\u001b[0;36m  File \u001b[0;32m\"<ipython-input-42-0cd3b6c6efea>\"\u001b[0;36m, line \u001b[0;32m1\u001b[0m\n\u001b[0;31m    [1,2,3]+[,4,5,6]\u001b[0m\n\u001b[0m             ^\u001b[0m\n\u001b[0;31mSyntaxError\u001b[0m\u001b[0;31m:\u001b[0m invalid syntax\n"
          ]
        }
      ]
    },
    {
      "cell_type": "code",
      "source": [
        "age=int(input(\"enter  your age\"))\n",
        "if age<18:\n",
        "  print(\"you can't vote!\")\n",
        "else:\n",
        "    print(\"you can vote!\")\n",
        "print(\"done!\")"
      ],
      "metadata": {
        "id": "hiVHUA3PsSNg",
        "colab": {
          "base_uri": "https://localhost:8080/"
        },
        "outputId": "202bad9c-c786-4286-d89c-aa6898c0fbcd"
      },
      "execution_count": 55,
      "outputs": [
        {
          "output_type": "stream",
          "name": "stdout",
          "text": [
            "enter  your age45\n",
            "you can vote!\n",
            "done!\n"
          ]
        }
      ]
    },
    {
      "cell_type": "code",
      "source": [
        "a=13\n",
        "b=13\n",
        "if b>a:print(\"b is greater than a\")\n",
        "elif  a==b:print(\"a and b  are equal\")\n"
      ],
      "metadata": {
        "colab": {
          "base_uri": "https://localhost:8080/"
        },
        "id": "PR1MT-B5vkF3",
        "outputId": "e5d27210-0d93-4450-a8b7-cc171a7fc81c"
      },
      "execution_count": 62,
      "outputs": [
        {
          "output_type": "stream",
          "name": "stdout",
          "text": [
            "a and b  are equal\n"
          ]
        }
      ]
    },
    {
      "cell_type": "code",
      "source": [
        "weight=int(input(\"enter you weight\"))\n",
        "height=float(input(\"enter you height\"))\n",
        "bmi=weight/(height*height)\n",
        "if(bmi<18.5):\n",
        "    print(\"you are underweight\")\n",
        "elif(bmi>18.5<60):\n",
        "    print(\"you are normal\")\n",
        "else:\n",
        "    print(\"you are overweight\")"
      ],
      "metadata": {
        "colab": {
          "base_uri": "https://localhost:8080/"
        },
        "id": "V2tPvYkyIxVe",
        "outputId": "aeaac9bf-65e5-484f-cff4-28983979ba7a"
      },
      "execution_count": 70,
      "outputs": [
        {
          "output_type": "stream",
          "name": "stdout",
          "text": [
            "enter you weight45\n",
            "enter you height1.7\n",
            "you are underweight\n"
          ]
        }
      ]
    },
    {
      "cell_type": "code",
      "source": [],
      "metadata": {
        "id": "J6IWTRuNKyTw"
      },
      "execution_count": null,
      "outputs": []
    }
  ]
}